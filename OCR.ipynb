{
 "cells": [
  {
   "cell_type": "markdown",
   "id": "european-animation",
   "metadata": {},
   "source": [
    "# Optical Caracter recognition with Python and tesseract"
   ]
  },
  {
   "cell_type": "code",
   "execution_count": 4,
   "id": "composite-portrait",
   "metadata": {},
   "outputs": [],
   "source": [
    "from tesserocr import PyTessBaseAPI\n",
    "from pdf2image import convert_from_path\n",
    "import tempfile"
   ]
  },
  {
   "cell_type": "code",
   "execution_count": 20,
   "id": "flexible-oliver",
   "metadata": {},
   "outputs": [],
   "source": [
    "#\n",
    "file=\"files/penal.pdf\""
   ]
  },
  {
   "cell_type": "code",
   "execution_count": null,
   "id": "baking-balance",
   "metadata": {},
   "outputs": [],
   "source": [
    "with tempfile.TemporaryDirectory() as path:\n",
    "    images = convert_from_path(file, output_folder=path)\n",
    "    with PyTessBaseAPI() as api:\n",
    "        for img in range(len(images)):\n",
    "            api.SetImage(images[img])\n",
    "            print(api.GetUTF8Text())\n",
    "            print(api.AllWordConfidences())\n",
    "   "
   ]
  },
  {
   "cell_type": "code",
   "execution_count": null,
   "id": "certified-paper",
   "metadata": {},
   "outputs": [],
   "source": [
    "\n",
    "\n"
   ]
  }
 ],
 "metadata": {
  "kernelspec": {
   "display_name": "Python 3",
   "language": "python",
   "name": "python3"
  },
  "language_info": {
   "codemirror_mode": {
    "name": "ipython",
    "version": 3
   },
   "file_extension": ".py",
   "mimetype": "text/x-python",
   "name": "python",
   "nbconvert_exporter": "python",
   "pygments_lexer": "ipython3",
   "version": "3.8.5"
  }
 },
 "nbformat": 4,
 "nbformat_minor": 5
}
