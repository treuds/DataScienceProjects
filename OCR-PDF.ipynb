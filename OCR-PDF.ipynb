{
 "cells": [
  {
   "cell_type": "markdown",
   "id": "preceding-secretariat",
   "metadata": {},
   "source": [
    "# Optical Caracter recognition of PDF document with Python and tesseract"
   ]
  },
  {
   "cell_type": "code",
   "execution_count": 4,
   "id": "dependent-studio",
   "metadata": {},
   "outputs": [],
   "source": [
    "from tesserocr import PyTessBaseAPI\n",
    "from pdf2image import convert_from_path\n",
    "import tempfile"
   ]
  },
  {
   "cell_type": "code",
   "execution_count": 23,
   "id": "julian-knife",
   "metadata": {},
   "outputs": [],
   "source": [
    "#\n",
    "file=\"files/penal.pdf\"\n",
    "dict_={}"
   ]
  },
  {
   "cell_type": "code",
   "execution_count": null,
   "id": "amber-failing",
   "metadata": {},
   "outputs": [],
   "source": [
    "with tempfile.TemporaryDirectory() as path:\n",
    "    images = convert_from_path(file, output_folder=path)\n",
    "    with PyTessBaseAPI() as api:\n",
    "        for img in range(len(images)):\n",
    "            api.SetImage(images[img])\n",
    "            dict_[\"page-{}\".format(img+1)]=api.GetUTF8Text()\n",
    "            \n",
    "   "
   ]
  },
  {
   "cell_type": "code",
   "execution_count": null,
   "id": "blind-requirement",
   "metadata": {},
   "outputs": [],
   "source": [
    "# Display the 12th page text"
   ]
  },
  {
   "cell_type": "code",
   "execution_count": null,
   "id": "regulation-context",
   "metadata": {},
   "outputs": [],
   "source": [
    "print(dict_[12])"
   ]
  },
  {
   "cell_type": "code",
   "execution_count": null,
   "id": "veterinary-excerpt",
   "metadata": {},
   "outputs": [],
   "source": []
  }
 ],
 "metadata": {
  "kernelspec": {
   "display_name": "Python 3",
   "language": "python",
   "name": "python3"
  },
  "language_info": {
   "codemirror_mode": {
    "name": "ipython",
    "version": 3
   },
   "file_extension": ".py",
   "mimetype": "text/x-python",
   "name": "python",
   "nbconvert_exporter": "python",
   "pygments_lexer": "ipython3",
   "version": "3.8.5"
  }
 },
 "nbformat": 4,
 "nbformat_minor": 5
}
