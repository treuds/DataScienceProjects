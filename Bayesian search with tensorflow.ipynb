{
 "cells": [
  {
   "cell_type": "markdown",
   "id": "04bc38f6",
   "metadata": {},
   "source": [
    "# Hyperparameters optimisation using bayesian search"
   ]
  },
  {
   "cell_type": "code",
   "execution_count": 1,
   "id": "ec2dad8f",
   "metadata": {},
   "outputs": [],
   "source": [
    "import numpy as np\n",
    "import tensorflow as tf\n",
    "from tensorflow.keras.datasets import mnist\n",
    "from tensorflow.keras.models import Sequential\n",
    "from tensorflow.keras.layers import Dense, Dropout, Flatten\n",
    "from tensorflow.keras.layers import Conv2D, MaxPooling2D\n",
    "from tensorflow.keras.optimizers import Adam\n",
    "from bayes_opt import BayesianOptimization"
   ]
  },
  {
   "cell_type": "code",
   "execution_count": 2,
   "id": "3d5ee325",
   "metadata": {},
   "outputs": [
    {
     "name": "stdout",
     "output_type": "stream",
     "text": [
      "Downloading data from https://storage.googleapis.com/tensorflow/tf-keras-datasets/mnist.npz\n",
      "11490434/11490434 [==============================] - 1s 0us/step\n"
     ]
    }
   ],
   "source": [
    "\n",
    "# Load the MNIST dataset\n",
    "(x_train, y_train), (x_test, y_test) = mnist.load_data()\n",
    "\n",
    "# Normalize the data\n",
    "x_train = x_train / 255.0\n",
    "x_test = x_test / 255.0"
   ]
  },
  {
   "cell_type": "markdown",
   "id": "8cc3dddc",
   "metadata": {},
   "source": [
    "## Define the model architecture"
   ]
  },
  {
   "cell_type": "code",
   "execution_count": 8,
   "id": "5fc85268",
   "metadata": {},
   "outputs": [],
   "source": [
    "\n",
    "\n",
    "\n",
    "def create_model(learning_rate, dropout_rate, num_filters, kernel_size):\n",
    "    model = Sequential()\n",
    "    model.add(Conv2D(num_filters, kernel_size=kernel_size, activation='relu', input_shape=(28, 28, 1)))\n",
    "    model.add(MaxPooling2D(pool_size=(2, 2)))\n",
    "    model.add(Dropout(dropout_rate))\n",
    "    model.add(Flatten())\n",
    "    model.add(Dense(128, activation='relu'))\n",
    "    model.add(Dense(10, activation='softmax'))\n",
    "\n",
    "    optimizer = Adam(learning_rate=learning_rate)\n",
    "    model.compile(optimizer=optimizer, loss='sparse_categorical_crossentropy', metrics=['accuracy'])\n",
    "\n",
    "    return model"
   ]
  },
  {
   "cell_type": "markdown",
   "id": "257dc876",
   "metadata": {},
   "source": [
    "\n",
    "## Define the hyperparameter search space"
   ]
  },
  {
   "cell_type": "code",
   "execution_count": 4,
   "id": "dca577ea",
   "metadata": {},
   "outputs": [],
   "source": [
    "\n",
    "pbounds = {'learning_rate': (0.0001, 0.01), 'dropout_rate': (0.0, 0.5), 'num_filters': (16, 64), 'kernel_size': (3, 5)}"
   ]
  },
  {
   "cell_type": "markdown",
   "id": "a38b0e52",
   "metadata": {},
   "source": [
    "## Define the objective function to maximize"
   ]
  },
  {
   "cell_type": "code",
   "execution_count": 5,
   "id": "35232719",
   "metadata": {},
   "outputs": [],
   "source": [
    "\n",
    "def objective(learning_rate, dropout_rate, num_filters, kernel_size):\n",
    "    model = create_model(learning_rate, dropout_rate, int(num_filters), int(kernel_size))\n",
    "\n",
    "    history = model.fit(x_train, y_train, validation_data=(x_test, y_test), epochs=5, batch_size=128, verbose=0)\n",
    "\n",
    "    return history.history['val_accuracy'][-1]"
   ]
  },
  {
   "cell_type": "markdown",
   "id": "57c828e9",
   "metadata": {},
   "source": [
    "## Create a Bayesian optimization object and run the search"
   ]
  },
  {
   "cell_type": "code",
   "execution_count": 6,
   "id": "e88f306f",
   "metadata": {},
   "outputs": [
    {
     "name": "stdout",
     "output_type": "stream",
     "text": [
      "|   iter    |  target   | dropou... | kernel... | learni... | num_fi... |\n",
      "-------------------------------------------------------------------------\n"
     ]
    },
    {
     "name": "stderr",
     "output_type": "stream",
     "text": [
      "WARNING:absl:`lr` is deprecated, please use `learning_rate` instead, or use the legacy optimizer, e.g.,tf.keras.optimizers.legacy.Adam.\n",
      "WARNING:absl:`lr` is deprecated, please use `learning_rate` instead, or use the legacy optimizer, e.g.,tf.keras.optimizers.legacy.Adam.\n"
     ]
    },
    {
     "name": "stdout",
     "output_type": "stream",
     "text": [
      "| \u001b[0m1        \u001b[0m | \u001b[0m0.9881   \u001b[0m | \u001b[0m0.1873   \u001b[0m | \u001b[0m4.901    \u001b[0m | \u001b[0m0.007347 \u001b[0m | \u001b[0m44.74    \u001b[0m |\n"
     ]
    },
    {
     "name": "stderr",
     "output_type": "stream",
     "text": [
      "WARNING:absl:`lr` is deprecated, please use `learning_rate` instead, or use the legacy optimizer, e.g.,tf.keras.optimizers.legacy.Adam.\n"
     ]
    },
    {
     "name": "stdout",
     "output_type": "stream",
     "text": [
      "| \u001b[0m2        \u001b[0m | \u001b[0m0.9853   \u001b[0m | \u001b[0m0.07801  \u001b[0m | \u001b[0m3.312    \u001b[0m | \u001b[0m0.000675 \u001b[0m | \u001b[0m57.58    \u001b[0m |\n"
     ]
    },
    {
     "name": "stderr",
     "output_type": "stream",
     "text": [
      "WARNING:absl:`lr` is deprecated, please use `learning_rate` instead, or use the legacy optimizer, e.g.,tf.keras.optimizers.legacy.Adam.\n"
     ]
    },
    {
     "name": "stdout",
     "output_type": "stream",
     "text": [
      "| \u001b[95m3        \u001b[0m | \u001b[95m0.9884   \u001b[0m | \u001b[95m0.3006   \u001b[0m | \u001b[95m4.416    \u001b[0m | \u001b[95m0.0003038\u001b[0m | \u001b[95m62.56    \u001b[0m |\n"
     ]
    },
    {
     "name": "stderr",
     "output_type": "stream",
     "text": [
      "WARNING:absl:`lr` is deprecated, please use `learning_rate` instead, or use the legacy optimizer, e.g.,tf.keras.optimizers.legacy.Adam.\n"
     ]
    },
    {
     "name": "stdout",
     "output_type": "stream",
     "text": [
      "| \u001b[0m4        \u001b[0m | \u001b[0m0.9851   \u001b[0m | \u001b[0m0.4162   \u001b[0m | \u001b[0m3.425    \u001b[0m | \u001b[0m0.0019   \u001b[0m | \u001b[0m24.8     \u001b[0m |\n",
      "| \u001b[0m5        \u001b[0m | \u001b[0m0.987    \u001b[0m | \u001b[0m0.1521   \u001b[0m | \u001b[0m4.05     \u001b[0m | \u001b[0m0.004376 \u001b[0m | \u001b[0m29.98    \u001b[0m |\n"
     ]
    },
    {
     "name": "stderr",
     "output_type": "stream",
     "text": [
      "WARNING:absl:`lr` is deprecated, please use `learning_rate` instead, or use the legacy optimizer, e.g.,tf.keras.optimizers.legacy.Adam.\n",
      "WARNING:absl:`lr` is deprecated, please use `learning_rate` instead, or use the legacy optimizer, e.g.,tf.keras.optimizers.legacy.Adam.\n"
     ]
    },
    {
     "name": "stdout",
     "output_type": "stream",
     "text": [
      "| \u001b[95m6        \u001b[0m | \u001b[95m0.9893   \u001b[0m | \u001b[95m0.1236   \u001b[0m | \u001b[95m4.947    \u001b[0m | \u001b[95m0.004032 \u001b[0m | \u001b[95m44.75    \u001b[0m |\n"
     ]
    },
    {
     "name": "stderr",
     "output_type": "stream",
     "text": [
      "WARNING:absl:`lr` is deprecated, please use `learning_rate` instead, or use the legacy optimizer, e.g.,tf.keras.optimizers.legacy.Adam.\n"
     ]
    },
    {
     "name": "stdout",
     "output_type": "stream",
     "text": [
      "| \u001b[0m7        \u001b[0m | \u001b[0m0.9878   \u001b[0m | \u001b[0m0.05824  \u001b[0m | \u001b[0m4.885    \u001b[0m | \u001b[0m0.001043 \u001b[0m | \u001b[0m44.68    \u001b[0m |\n"
     ]
    },
    {
     "name": "stderr",
     "output_type": "stream",
     "text": [
      "WARNING:absl:`lr` is deprecated, please use `learning_rate` instead, or use the legacy optimizer, e.g.,tf.keras.optimizers.legacy.Adam.\n"
     ]
    },
    {
     "name": "stdout",
     "output_type": "stream",
     "text": [
      "| \u001b[0m8        \u001b[0m | \u001b[0m0.985    \u001b[0m | \u001b[0m0.002239 \u001b[0m | \u001b[0m3.081    \u001b[0m | \u001b[0m0.004718 \u001b[0m | \u001b[0m32.9     \u001b[0m |\n"
     ]
    },
    {
     "name": "stderr",
     "output_type": "stream",
     "text": [
      "WARNING:absl:`lr` is deprecated, please use `learning_rate` instead, or use the legacy optimizer, e.g.,tf.keras.optimizers.legacy.Adam.\n"
     ]
    },
    {
     "name": "stdout",
     "output_type": "stream",
     "text": [
      "| \u001b[0m9        \u001b[0m | \u001b[0m0.9878   \u001b[0m | \u001b[0m0.2694   \u001b[0m | \u001b[0m4.48     \u001b[0m | \u001b[0m0.0062   \u001b[0m | \u001b[0m62.7     \u001b[0m |\n"
     ]
    },
    {
     "name": "stderr",
     "output_type": "stream",
     "text": [
      "WARNING:absl:`lr` is deprecated, please use `learning_rate` instead, or use the legacy optimizer, e.g.,tf.keras.optimizers.legacy.Adam.\n"
     ]
    },
    {
     "name": "stdout",
     "output_type": "stream",
     "text": [
      "| \u001b[0m10       \u001b[0m | \u001b[0m0.9874   \u001b[0m | \u001b[0m0.09665  \u001b[0m | \u001b[0m4.805    \u001b[0m | \u001b[0m0.009593 \u001b[0m | \u001b[0m44.87    \u001b[0m |\n"
     ]
    },
    {
     "name": "stderr",
     "output_type": "stream",
     "text": [
      "WARNING:absl:`lr` is deprecated, please use `learning_rate` instead, or use the legacy optimizer, e.g.,tf.keras.optimizers.legacy.Adam.\n"
     ]
    },
    {
     "name": "stdout",
     "output_type": "stream",
     "text": [
      "| \u001b[95m11       \u001b[0m | \u001b[95m0.9903   \u001b[0m | \u001b[95m0.4692   \u001b[0m | \u001b[95m4.413    \u001b[0m | \u001b[95m0.004556 \u001b[0m | \u001b[95m63.93    \u001b[0m |\n"
     ]
    },
    {
     "name": "stderr",
     "output_type": "stream",
     "text": [
      "WARNING:absl:`lr` is deprecated, please use `learning_rate` instead, or use the legacy optimizer, e.g.,tf.keras.optimizers.legacy.Adam.\n"
     ]
    },
    {
     "name": "stdout",
     "output_type": "stream",
     "text": [
      "| \u001b[0m12       \u001b[0m | \u001b[0m0.9893   \u001b[0m | \u001b[0m0.3876   \u001b[0m | \u001b[0m4.764    \u001b[0m | \u001b[0m0.002349 \u001b[0m | \u001b[0m33.88    \u001b[0m |\n",
      "| \u001b[0m13       \u001b[0m | \u001b[0m0.9883   \u001b[0m | \u001b[0m0.4676   \u001b[0m | \u001b[0m4.35     \u001b[0m | \u001b[0m0.003089 \u001b[0m | \u001b[0m63.8     \u001b[0m |\n"
     ]
    },
    {
     "name": "stderr",
     "output_type": "stream",
     "text": [
      "WARNING:absl:`lr` is deprecated, please use `learning_rate` instead, or use the legacy optimizer, e.g.,tf.keras.optimizers.legacy.Adam.\n",
      "WARNING:absl:`lr` is deprecated, please use `learning_rate` instead, or use the legacy optimizer, e.g.,tf.keras.optimizers.legacy.Adam.\n"
     ]
    },
    {
     "name": "stdout",
     "output_type": "stream",
     "text": [
      "| \u001b[0m14       \u001b[0m | \u001b[0m0.9869   \u001b[0m | \u001b[0m0.003152 \u001b[0m | \u001b[0m3.919    \u001b[0m | \u001b[0m0.009769 \u001b[0m | \u001b[0m41.28    \u001b[0m |\n",
      "| \u001b[0m15       \u001b[0m | \u001b[0m0.9859   \u001b[0m | \u001b[0m0.3713   \u001b[0m | \u001b[0m4.05     \u001b[0m | \u001b[0m0.003073 \u001b[0m | \u001b[0m16.94    \u001b[0m |\n",
      "=========================================================================\n"
     ]
    }
   ],
   "source": [
    "\n",
    "optimizer = BayesianOptimization(f=objective, pbounds=pbounds, random_state=42)\n",
    "optimizer.maximize(n_iter=10)"
   ]
  },
  {
   "cell_type": "code",
   "execution_count": 7,
   "id": "e719bd54",
   "metadata": {},
   "outputs": [
    {
     "name": "stdout",
     "output_type": "stream",
     "text": [
      "{'target': 0.9902999997138977, 'params': {'dropout_rate': 0.4691568708481438, 'kernel_size': 4.412652249431585, 'learning_rate': 0.0045563272624315814, 'num_filters': 63.92646483894076}}\n"
     ]
    }
   ],
   "source": [
    "# Print the best set of hyperparameters found\n",
    "print(optimizer.max)\n"
   ]
  },
  {
   "cell_type": "code",
   "execution_count": null,
   "id": "57ab2f40",
   "metadata": {},
   "outputs": [],
   "source": []
  }
 ],
 "metadata": {
  "kernelspec": {
   "display_name": "Python 3 (ipykernel)",
   "language": "python",
   "name": "python3"
  },
  "language_info": {
   "codemirror_mode": {
    "name": "ipython",
    "version": 3
   },
   "file_extension": ".py",
   "mimetype": "text/x-python",
   "name": "python",
   "nbconvert_exporter": "python",
   "pygments_lexer": "ipython3",
   "version": "3.9.13"
  }
 },
 "nbformat": 4,
 "nbformat_minor": 5
}
