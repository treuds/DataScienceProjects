{
 "cells": [
  {
   "cell_type": "markdown",
   "id": "tropical-howard",
   "metadata": {},
   "source": [
    "# Optical Caracter recognition of PDF document with Python and tesseract"
   ]
  },
  {
   "cell_type": "code",
   "execution_count": 4,
   "id": "tropical-brown",
   "metadata": {},
   "outputs": [],
   "source": [
    "from tesserocr import PyTessBaseAPI\n",
    "from pdf2image import convert_from_path\n",
    "import tempfile"
   ]
  },
  {
   "cell_type": "code",
   "execution_count": 23,
   "id": "noticed-malpractice",
   "metadata": {},
   "outputs": [],
   "source": [
    "#\n",
    "file=\"files/penal.pdf\"\n",
    "dict_={}"
   ]
  },
  {
   "cell_type": "code",
   "execution_count": 24,
   "id": "future-mentor",
   "metadata": {},
   "outputs": [],
   "source": [
    "with tempfile.TemporaryDirectory() as path:\n",
    "    images = convert_from_path(file, output_folder=path)\n",
    "    with PyTessBaseAPI() as api:\n",
    "        for img in range(len(images)):\n",
    "            api.SetImage(images[img])\n",
    "            dict_[\"page-{}\".format(img+1)]=api.GetUTF8Text()\n",
    "            \n",
    "   "
   ]
  },
  {
   "cell_type": "code",
   "execution_count": null,
   "id": "sealed-extra",
   "metadata": {},
   "outputs": [],
   "source": [
    "# Display the 12th page text"
   ]
  },
  {
   "cell_type": "code",
   "execution_count": 26,
   "id": "continuing-skill",
   "metadata": {},
   "outputs": [
    {
     "name": "stdout",
     "output_type": "stream",
     "text": [
      "dans les faits qui l'auront consommée, sans préjudice des peines qui seront\n",
      "spécialement portées par le présent Code contre les auteurs de complots ou de\n",
      "provocations attentatoires a la stireté intérieure ou extérieure de I'Etat, méme dans le\n",
      "cas ou le crime qui était l'objet des conspirateurs ou des provocateurs, n'aurait pas été\n",
      "\n",
      "commis.\n",
      "\n",
      "Art. 46.- Ceux qui sciemment auront recelé, en tout ou en partie, des choses enlevées,\n",
      "détournées ou obtenues a l'aide d'un crime ou d'un délit seront aussi punis comme\n",
      "\n",
      "complices de ce crime ou délit.\n",
      "\n",
      "Art. 47.- Néanmoins, a l'égard des recéleurs désignés dans l'article précédent, la peine\n",
      "de mort ou des travaux forcés a perpétuité, lorsqu'il y aura lieu, ne leur sera appliquée\n",
      "qu'autant qu'ils seront convaincus d'avoir eu, au temps du recelé, connaissances des\n",
      "circonstances auxquelles la loi attache les peines de ces deux genres; sinon, ils ne\n",
      "\n",
      "subiront que la peine des travaux forcés 4 temps.\n",
      "\n",
      "Art. 48.- Il n'y a ni crimes ni délit, lorsque le prévenu était en état de démence au\n",
      "temps de I'action ou lorsqu'il a été contraint par une force a laquelle il n'a pas pu\n",
      "\n",
      "résister.\n",
      "\n",
      "Art. 49.- Nul crime ou délit ne peut étre excusé, ni la peine mitigée, que dans les cas\n",
      "et dans les circonstances ow la loi déclare le fait excusable ou permet de lui appliquer\n",
      "\n",
      "une peine moins rigoureuse.\n",
      "\n",
      "Art. 50.- (Loi du 7 septembre 1951).- Lorsque le prévenu ou l'accusé aura plus de 13\n",
      "ans et moins de 16 ans et sauf s'il est décidé 4 son égard une condamnation pénale en\n",
      "conformité de l'article 51 du présent Code, il sera, selon les circonstances, ou\n",
      "simplement admonesté ou remis a ses parents, a son tuteur, 4 la personne qui en avait\n",
      "la garde ou a une personne digne de confiance ou acheminé a un Institut Médico-\n",
      "pedagogique privé ou public, ou bien placé au Centre d'Accueil «Duval-Duvalier» ou\n",
      "toute autre Institution d'Education corrective, a l'effet d'y recevoir une formation\n",
      "morale, civique, professionnelle pendant le nombre d'années fixé par le jugement et\n",
      "\n",
      "qui ne pourra jamais excéder l'époque ot il aura atteint l'age de 21 ans.\n",
      "\n",
      "Les recours contre les décisions ordonnant le placement du mineur ou son envoi dans\n",
      "une Institution publique d'éducation surveillée ou corrective sont suspensifs, sauf\n",
      "\n",
      "exécution provisoire nonobstant opposition ou appel expressément ordonnée. Le\n",
      "\n",
      "www.haitijustice.com 12\n",
      "\n"
     ]
    }
   ],
   "source": [
    "print(dict_[\"page-12\"])"
   ]
  },
  {
   "cell_type": "code",
   "execution_count": null,
   "id": "interior-border",
   "metadata": {},
   "outputs": [],
   "source": []
  }
 ],
 "metadata": {
  "kernelspec": {
   "display_name": "Python 3",
   "language": "python",
   "name": "python3"
  },
  "language_info": {
   "codemirror_mode": {
    "name": "ipython",
    "version": 3
   },
   "file_extension": ".py",
   "mimetype": "text/x-python",
   "name": "python",
   "nbconvert_exporter": "python",
   "pygments_lexer": "ipython3",
   "version": "3.8.5"
  }
 },
 "nbformat": 4,
 "nbformat_minor": 5
}
